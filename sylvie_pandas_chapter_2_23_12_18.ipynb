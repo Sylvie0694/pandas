{
 "cells": [
  {
   "cell_type": "markdown",
   "id": "3e43b1c8-cf6d-467c-8f3f-159e7c071bde",
   "metadata": {},
   "source": [
    "subtitle"
   ]
  },
  {
   "cell_type": "code",
   "execution_count": 6,
   "id": "27ca1c19-7ab5-4615-9cc2-50086030a7a0",
   "metadata": {
    "tags": []
   },
   "outputs": [],
   "source": [
    "import numpy as np\n",
    "import pandas as pd\n",
    "import datetime\n",
    "\n",
    "from datetime import datetime, date\n",
    "\n",
    "pd.set_option('display.max_columns',7)\n",
    "pd.set_option('display.max_rows',10)\n",
    "pd.set_option('display.width',60)\n",
    "\n",
    "import matplotlib.pyplot as plt"
   ]
  },
  {
   "cell_type": "code",
   "execution_count": 23,
   "id": "a7d1baac-4462-4dea-a939-91774706ae08",
   "metadata": {
    "tags": []
   },
   "outputs": [
    {
     "data": {
      "text/plain": [
       "1    211\n",
       "3    411\n",
       "dtype: int64"
      ]
     },
     "execution_count": 23,
     "metadata": {},
     "output_type": "execute_result"
    }
   ],
   "source": [
    "s = pd.Series([111,211,311,411])\n",
    "s[[1,3]]#data를 2개 이상 출력하려면 괄호를 한개 더 적어야함\n"
   ]
  },
  {
   "cell_type": "code",
   "execution_count": 27,
   "id": "ec69bca1-e04e-424a-919d-0e7089229197",
   "metadata": {
    "tags": []
   },
   "outputs": [
    {
     "data": {
      "text/plain": [
       "a    1\n",
       "b    2\n",
       "c    3\n",
       "d    4\n",
       "dtype: int64"
      ]
     },
     "execution_count": 27,
     "metadata": {},
     "output_type": "execute_result"
    }
   ],
   "source": [
    "s = pd.Series([1,2,3,4],index=['a','b','c','d'])\n",
    "s"
   ]
  },
  {
   "cell_type": "code",
   "execution_count": 28,
   "id": "d0b8cf6d-2cb4-42b1-a422-95fc62030e65",
   "metadata": {
    "tags": []
   },
   "outputs": [
    {
     "data": {
      "text/plain": [
       "Index(['a', 'b', 'c', 'd'], dtype='object')"
      ]
     },
     "execution_count": 28,
     "metadata": {},
     "output_type": "execute_result"
    }
   ],
   "source": [
    "s.index"
   ]
  },
  {
   "cell_type": "code",
   "execution_count": 29,
   "id": "3f3da627-0827-449a-b7fa-d4c83e3853c6",
   "metadata": {
    "tags": []
   },
   "outputs": [
    {
     "data": {
      "text/plain": [
       "1"
      ]
     },
     "execution_count": 29,
     "metadata": {},
     "output_type": "execute_result"
    }
   ],
   "source": [
    "s[0]"
   ]
  },
  {
   "cell_type": "code",
   "execution_count": 30,
   "id": "15bac6c5-7d18-4d4d-9dbb-1811365fa145",
   "metadata": {
    "tags": []
   },
   "outputs": [
    {
     "data": {
      "text/plain": [
       "a    1\n",
       "d    4\n",
       "dtype: int64"
      ]
     },
     "execution_count": 30,
     "metadata": {},
     "output_type": "execute_result"
    }
   ],
   "source": [
    "s[['a','d']]"
   ]
  },
  {
   "cell_type": "code",
   "execution_count": 34,
   "id": "1d9ad147-1498-4be2-a5f4-0ea13fb85937",
   "metadata": {
    "tags": []
   },
   "outputs": [
    {
     "data": {
      "text/plain": [
       "a    1\n",
       "d    4\n",
       "dtype: int64"
      ]
     },
     "execution_count": 34,
     "metadata": {},
     "output_type": "execute_result"
    }
   ],
   "source": [
    "s[[0,3]]"
   ]
  },
  {
   "cell_type": "code",
   "execution_count": 159,
   "id": "89634778-d268-41d0-b66c-fd617e6e813c",
   "metadata": {
    "tags": []
   },
   "outputs": [
    {
     "data": {
      "text/plain": [
       "DatetimeIndex(['2016-04-01', '2016-04-02', '2016-04-03',\n",
       "               '2016-04-04', '2016-04-05', '2016-04-06',\n",
       "               '2016-04-07', '2016-04-08', '2016-04-09',\n",
       "               '2016-04-10'],\n",
       "              dtype='datetime64[ns]', freq='D')"
      ]
     },
     "execution_count": 159,
     "metadata": {},
     "output_type": "execute_result"
    }
   ],
   "source": [
    "dates1 = pd.date_range('2016-04-01','2016-04-10')\n",
    "dates1"
   ]
  },
  {
   "cell_type": "code",
   "execution_count": 160,
   "id": "66d0a825-fc20-48f0-8bd1-79580b848971",
   "metadata": {
    "tags": []
   },
   "outputs": [
    {
     "data": {
      "text/plain": [
       "DatetimeIndex(['2023-07-20', '2023-07-21', '2023-07-22',\n",
       "               '2023-07-23', '2023-07-24', '2023-07-25'],\n",
       "              dtype='datetime64[ns]', freq='D')"
      ]
     },
     "execution_count": 160,
     "metadata": {},
     "output_type": "execute_result"
    }
   ],
   "source": [
    "dates = pd.date_range('2023-07-20','2023-07-25')\n",
    "dates"
   ]
  },
  {
   "cell_type": "code",
   "execution_count": 161,
   "id": "49378d35-91d3-4bb4-a1ef-81f9cae1297f",
   "metadata": {
    "tags": []
   },
   "outputs": [
    {
     "data": {
      "text/plain": [
       "2023-07-20     80\n",
       "2023-07-21     81\n",
       "2023-07-22     91\n",
       "2023-07-23     95\n",
       "2023-07-24    100\n",
       "2023-07-25    101\n",
       "Freq: D, dtype: int64"
      ]
     },
     "execution_count": 161,
     "metadata": {},
     "output_type": "execute_result"
    }
   ],
   "source": [
    "temps1 = pd.Series([80,81,91,95,100,101],index=dates)\n",
    "temps1"
   ]
  },
  {
   "cell_type": "code",
   "execution_count": 162,
   "id": "ed1a6dba-7cfd-419f-b05b-46ef1ac028a4",
   "metadata": {
    "tags": []
   },
   "outputs": [],
   "source": [
    "temps2 = pd.Series([70,75,69,79,77,83], index=dates)\n",
    "temp_diffs = temps1 - temps2"
   ]
  },
  {
   "cell_type": "code",
   "execution_count": 163,
   "id": "e971667f-4422-4545-8012-f07fc2595b9c",
   "metadata": {
    "tags": []
   },
   "outputs": [
    {
     "data": {
      "text/plain": [
       "2023-07-20    10\n",
       "2023-07-21     6\n",
       "2023-07-22    22\n",
       "2023-07-23    16\n",
       "2023-07-24    23\n",
       "2023-07-25    18\n",
       "Freq: D, dtype: int64"
      ]
     },
     "execution_count": 163,
     "metadata": {},
     "output_type": "execute_result"
    }
   ],
   "source": [
    "temp_diffs"
   ]
  },
  {
   "cell_type": "code",
   "execution_count": 164,
   "id": "edad6e35-edc8-4cd3-b3be-aec3291cf065",
   "metadata": {
    "tags": []
   },
   "outputs": [
    {
     "data": {
      "text/html": [
       "<div>\n",
       "<style scoped>\n",
       "    .dataframe tbody tr th:only-of-type {\n",
       "        vertical-align: middle;\n",
       "    }\n",
       "\n",
       "    .dataframe tbody tr th {\n",
       "        vertical-align: top;\n",
       "    }\n",
       "\n",
       "    .dataframe thead th {\n",
       "        text-align: right;\n",
       "    }\n",
       "</style>\n",
       "<table border=\"1\" class=\"dataframe\">\n",
       "  <thead>\n",
       "    <tr style=\"text-align: right;\">\n",
       "      <th></th>\n",
       "      <th>Missoula</th>\n",
       "      <th>Philadelphia</th>\n",
       "    </tr>\n",
       "  </thead>\n",
       "  <tbody>\n",
       "    <tr>\n",
       "      <th>2023-07-20</th>\n",
       "      <td>80</td>\n",
       "      <td>70</td>\n",
       "    </tr>\n",
       "    <tr>\n",
       "      <th>2023-07-21</th>\n",
       "      <td>81</td>\n",
       "      <td>75</td>\n",
       "    </tr>\n",
       "    <tr>\n",
       "      <th>2023-07-22</th>\n",
       "      <td>91</td>\n",
       "      <td>69</td>\n",
       "    </tr>\n",
       "    <tr>\n",
       "      <th>2023-07-23</th>\n",
       "      <td>95</td>\n",
       "      <td>79</td>\n",
       "    </tr>\n",
       "    <tr>\n",
       "      <th>2023-07-24</th>\n",
       "      <td>100</td>\n",
       "      <td>77</td>\n",
       "    </tr>\n",
       "    <tr>\n",
       "      <th>2023-07-25</th>\n",
       "      <td>101</td>\n",
       "      <td>83</td>\n",
       "    </tr>\n",
       "  </tbody>\n",
       "</table>\n",
       "</div>"
      ],
      "text/plain": [
       "            Missoula  Philadelphia\n",
       "2023-07-20        80            70\n",
       "2023-07-21        81            75\n",
       "2023-07-22        91            69\n",
       "2023-07-23        95            79\n",
       "2023-07-24       100            77\n",
       "2023-07-25       101            83"
      ]
     },
     "execution_count": 164,
     "metadata": {},
     "output_type": "execute_result"
    }
   ],
   "source": [
    "temps_df = pd.DataFrame({'Missoula':temps1,\n",
    "                            'Philadelphia':temps2})\n",
    "temps_df"
   ]
  },
  {
   "cell_type": "code",
   "execution_count": 165,
   "id": "02f562ec-e295-47da-bd10-bd86ccaae760",
   "metadata": {
    "tags": []
   },
   "outputs": [
    {
     "data": {
      "text/html": [
       "<div>\n",
       "<style scoped>\n",
       "    .dataframe tbody tr th:only-of-type {\n",
       "        vertical-align: middle;\n",
       "    }\n",
       "\n",
       "    .dataframe tbody tr th {\n",
       "        vertical-align: top;\n",
       "    }\n",
       "\n",
       "    .dataframe thead th {\n",
       "        text-align: right;\n",
       "    }\n",
       "</style>\n",
       "<table border=\"1\" class=\"dataframe\">\n",
       "  <thead>\n",
       "    <tr style=\"text-align: right;\">\n",
       "      <th></th>\n",
       "      <th>Missoula</th>\n",
       "      <th>Philadelphia</th>\n",
       "    </tr>\n",
       "  </thead>\n",
       "  <tbody>\n",
       "    <tr>\n",
       "      <th>2023-07-20</th>\n",
       "      <td>80</td>\n",
       "      <td>70</td>\n",
       "    </tr>\n",
       "    <tr>\n",
       "      <th>2023-07-21</th>\n",
       "      <td>81</td>\n",
       "      <td>75</td>\n",
       "    </tr>\n",
       "    <tr>\n",
       "      <th>2023-07-22</th>\n",
       "      <td>91</td>\n",
       "      <td>69</td>\n",
       "    </tr>\n",
       "    <tr>\n",
       "      <th>2023-07-23</th>\n",
       "      <td>95</td>\n",
       "      <td>79</td>\n",
       "    </tr>\n",
       "    <tr>\n",
       "      <th>2023-07-24</th>\n",
       "      <td>100</td>\n",
       "      <td>77</td>\n",
       "    </tr>\n",
       "    <tr>\n",
       "      <th>2023-07-25</th>\n",
       "      <td>101</td>\n",
       "      <td>83</td>\n",
       "    </tr>\n",
       "  </tbody>\n",
       "</table>\n",
       "</div>"
      ],
      "text/plain": [
       "            Missoula  Philadelphia\n",
       "2023-07-20        80            70\n",
       "2023-07-21        81            75\n",
       "2023-07-22        91            69\n",
       "2023-07-23        95            79\n",
       "2023-07-24       100            77\n",
       "2023-07-25       101            83"
      ]
     },
     "execution_count": 165,
     "metadata": {},
     "output_type": "execute_result"
    }
   ],
   "source": [
    "temps_df[['Missoula','Philadelphia']]"
   ]
  },
  {
   "cell_type": "code",
   "execution_count": 166,
   "id": "e8a7384a-1b85-4be2-9bb1-5c18d29f0d53",
   "metadata": {
    "tags": []
   },
   "outputs": [
    {
     "data": {
      "text/plain": [
       "2023-07-20     80\n",
       "2023-07-21     81\n",
       "2023-07-22     91\n",
       "2023-07-23     95\n",
       "2023-07-24    100\n",
       "2023-07-25    101\n",
       "Freq: D, Name: Missoula, dtype: int64"
      ]
     },
     "execution_count": 166,
     "metadata": {},
     "output_type": "execute_result"
    }
   ],
   "source": [
    "temps_df['Difference'] = temp_diffs\n",
    "temps_df.Missoula"
   ]
  },
  {
   "cell_type": "code",
   "execution_count": 167,
   "id": "3c5130e6-85d2-48b2-8c8b-f6590f93b9b0",
   "metadata": {
    "tags": []
   },
   "outputs": [
    {
     "data": {
      "text/plain": [
       "2023-07-20    70\n",
       "2023-07-21    75\n",
       "2023-07-22    69\n",
       "2023-07-23    79\n",
       "2023-07-24    77\n",
       "2023-07-25    83\n",
       "Freq: D, Name: Philadelphia, dtype: int64"
      ]
     },
     "execution_count": 167,
     "metadata": {},
     "output_type": "execute_result"
    }
   ],
   "source": [
    "temps_df.Philadelphia"
   ]
  },
  {
   "cell_type": "code",
   "execution_count": 168,
   "id": "4408cfae-117b-4689-b377-77471335a1fe",
   "metadata": {
    "tags": []
   },
   "outputs": [
    {
     "data": {
      "text/plain": [
       "2023-07-21     6\n",
       "2023-07-22    22\n",
       "2023-07-23    16\n",
       "2023-07-24    23\n",
       "Freq: D, Name: Difference, dtype: int64"
      ]
     },
     "execution_count": 168,
     "metadata": {},
     "output_type": "execute_result"
    }
   ],
   "source": [
    "temps_df.columns\n",
    "#slicing숫자는 s,e,st\n",
    "temps_df.Difference[1:5]"
   ]
  },
  {
   "cell_type": "code",
   "execution_count": 169,
   "id": "2b29ad61-a1bf-4057-8dd8-fe275e8fddb3",
   "metadata": {
    "tags": []
   },
   "outputs": [
    {
     "data": {
      "text/plain": [
       "2023-07-20    10\n",
       "2023-07-21     6\n",
       "2023-07-22    22\n",
       "2023-07-23    16\n",
       "2023-07-24    23\n",
       "Freq: D, Name: Difference, dtype: int64"
      ]
     },
     "execution_count": 169,
     "metadata": {},
     "output_type": "execute_result"
    }
   ],
   "source": [
    "temps_df.Difference['2023-07-20':'2023-07-24']"
   ]
  },
  {
   "cell_type": "code",
   "execution_count": 170,
   "id": "965ea9ae-2983-41bb-83a2-19a5c6576efd",
   "metadata": {
    "tags": []
   },
   "outputs": [
    {
     "data": {
      "text/plain": [
       "Index(['Missoula', 'Philadelphia', 'Difference'], dtype='object')"
      ]
     },
     "execution_count": 170,
     "metadata": {},
     "output_type": "execute_result"
    }
   ],
   "source": [
    "temps_df.iloc[1].index"
   ]
  },
  {
   "cell_type": "code",
   "execution_count": 171,
   "id": "1022293f-9208-41fc-8388-d0275a5d4936",
   "metadata": {
    "tags": []
   },
   "outputs": [
    {
     "data": {
      "text/plain": [
       "2023-07-21     6\n",
       "2023-07-23    16\n",
       "2023-07-25    18\n",
       "Freq: 2D, Name: Difference, dtype: int64"
      ]
     },
     "execution_count": 171,
     "metadata": {},
     "output_type": "execute_result"
    }
   ],
   "source": [
    "temps_df.iloc[[1,3,5]].Difference"
   ]
  },
  {
   "cell_type": "code",
   "execution_count": 172,
   "id": "257bd676-b6fb-4e61-b33d-d1a44e6494c9",
   "metadata": {
    "tags": []
   },
   "outputs": [
    {
     "data": {
      "text/plain": [
       "2023-07-21     6\n",
       "2023-07-23    16\n",
       "2023-07-25    18\n",
       "Freq: 2D, Name: Difference, dtype: int64"
      ]
     },
     "execution_count": 172,
     "metadata": {},
     "output_type": "execute_result"
    }
   ],
   "source": [
    "temps_df.Difference.iloc[[1,3,5]]"
   ]
  },
  {
   "cell_type": "code",
   "execution_count": 174,
   "id": "37edeacf-4cd3-4c74-bec3-4560bd577cb9",
   "metadata": {
    "tags": []
   },
   "outputs": [
    {
     "data": {
      "text/plain": [
       "2023-07-20    False\n",
       "2023-07-21    False\n",
       "2023-07-22     True\n",
       "2023-07-23     True\n",
       "2023-07-24     True\n",
       "2023-07-25     True\n",
       "Freq: D, Name: Missoula, dtype: bool"
      ]
     },
     "execution_count": 174,
     "metadata": {},
     "output_type": "execute_result"
    }
   ],
   "source": [
    "temps_df.Missoula > 82\n",
    "# = (temps_df.Missoula) > 82"
   ]
  },
  {
   "cell_type": "code",
   "execution_count": 175,
   "id": "12e960b4-6080-4894-9393-59d815dc84db",
   "metadata": {
    "tags": []
   },
   "outputs": [
    {
     "data": {
      "text/html": [
       "<div>\n",
       "<style scoped>\n",
       "    .dataframe tbody tr th:only-of-type {\n",
       "        vertical-align: middle;\n",
       "    }\n",
       "\n",
       "    .dataframe tbody tr th {\n",
       "        vertical-align: top;\n",
       "    }\n",
       "\n",
       "    .dataframe thead th {\n",
       "        text-align: right;\n",
       "    }\n",
       "</style>\n",
       "<table border=\"1\" class=\"dataframe\">\n",
       "  <thead>\n",
       "    <tr style=\"text-align: right;\">\n",
       "      <th></th>\n",
       "      <th>Missoula</th>\n",
       "      <th>Philadelphia</th>\n",
       "      <th>Difference</th>\n",
       "    </tr>\n",
       "  </thead>\n",
       "  <tbody>\n",
       "    <tr>\n",
       "      <th>2023-07-22</th>\n",
       "      <td>91</td>\n",
       "      <td>69</td>\n",
       "      <td>22</td>\n",
       "    </tr>\n",
       "    <tr>\n",
       "      <th>2023-07-23</th>\n",
       "      <td>95</td>\n",
       "      <td>79</td>\n",
       "      <td>16</td>\n",
       "    </tr>\n",
       "    <tr>\n",
       "      <th>2023-07-24</th>\n",
       "      <td>100</td>\n",
       "      <td>77</td>\n",
       "      <td>23</td>\n",
       "    </tr>\n",
       "    <tr>\n",
       "      <th>2023-07-25</th>\n",
       "      <td>101</td>\n",
       "      <td>83</td>\n",
       "      <td>18</td>\n",
       "    </tr>\n",
       "  </tbody>\n",
       "</table>\n",
       "</div>"
      ],
      "text/plain": [
       "            Missoula  Philadelphia  Difference\n",
       "2023-07-22        91            69          22\n",
       "2023-07-23        95            79          16\n",
       "2023-07-24       100            77          23\n",
       "2023-07-25       101            83          18"
      ]
     },
     "execution_count": 175,
     "metadata": {},
     "output_type": "execute_result"
    }
   ],
   "source": [
    "temps_df[temps_df.Missoula > 82]"
   ]
  },
  {
   "cell_type": "code",
   "execution_count": 176,
   "id": "81b7ebaa-1276-4100-944c-95aae6dcff73",
   "metadata": {
    "tags": []
   },
   "outputs": [
    {
     "data": {
      "text/plain": [
       "2023-07-22    69\n",
       "2023-07-23    79\n",
       "2023-07-24    77\n",
       "2023-07-25    83\n",
       "Freq: D, Name: Philadelphia, dtype: int64"
      ]
     },
     "execution_count": 176,
     "metadata": {},
     "output_type": "execute_result"
    }
   ],
   "source": [
    "temps_df.Philadelphia[temps_df.Missoula > 82]"
   ]
  },
  {
   "cell_type": "code",
   "execution_count": 181,
   "id": "2dfdf4d8-6ba9-4106-a1df-5099d551e785",
   "metadata": {},
   "outputs": [
    {
     "name": "stdout",
     "output_type": "stream",
     "text": [
      "Date,Open,High,Low,Close,Volume,\n",
      "12/19/2016,790.219971,797.659973,786.27002,794.200012,1225900,\n",
      "12/20/2016,796.76001,798.650024,793.27002,796.419983,925100,\n",
      "12/21/2016,795.840027,796.676025,787.099976,794.559998,1208700,\n",
      "12/22/2016,792.359985,793.320007,788.580017,791.26001,969100,\n",
      "12/23/2016,790.900024,792.73999,787.280029,789.909973,623400,\n",
      "12/27/2016,790.679993,797.859985,787.656982,791.549988,789100,\n",
      "12/28/2016,793.700012,794.22998,783.200012,785.049988,1132700,\n",
      "12/29/2016,783.330017,785.929993,778.919983,782.789978,742200,\n",
      "12/30/2016,782.75,782.780029,770.409973,771.820007,1760200,\n",
      "1/3/2017,778.809998,789.630005,775.799988,786.140015,1643100,\n",
      "1/4/2017,788.359985,791.340027,783.159973,786.900024,1065400,\n",
      "1/5/2017,786.080017,794.47998,785.02002,794.02002,1315400,\n",
      "1/6/2017,795.26001,807.900024,792.203979,806.150024,1620500,\n",
      "1/9/2017,806.400024,809.966003,802.830017,806.650024,1272400,\n",
      "1/10/2017,807.859985,809.130005,803.51001,804.789978,1174300,\n",
      "1/11/2017,805,808.150024,801.369995,807.909973,1057900,\n",
      "1/12/2017,807.140015,807.390015,799.169983,806.359985,1351000,\n",
      "1/13/2017,807.47998,811.223999,806.690002,807.880005,1090100,\n",
      "1/17/2017,807.080017,807.140015,800.369995,804.609985,1355800,\n",
      "1/18/2017,805.809998,806.205017,800.98999,806.070007,1293300,\n",
      "1/19/2017,805.119995,809.47998,801.799988,802.174988,912000,\n",
      "1/20/2017,806.909973,806.909973,801.690002,805.02002,1645000,\n",
      "1/23/2017,807.25,820.869995,803.73999,819.309998,1901600,\n",
      "1/24/2017,822.299988,825.900024,817.820984,823.869995,1461000,\n",
      "1/25/2017,829.619995,835.77002,825.059998,835.669983,1494500,\n",
      "1/26/2017,837.809998,838,827.01001,832.150024,2734400,\n",
      "1/27/2017,834.710022,841.950012,820.440002,823.309998,2951800,\n",
      "1/30/2017,814.659973,815.840027,799.799988,802.320007,3228900,\n",
      "1/31/2017,796.859985,801.25,790.52002,796.789978,2143500,\n",
      "2/1/2017,799.679993,801.190002,791.190002,795.695007,2023300,\n",
      "2/2/2017,793.799988,802.700012,792,798.530029,1525800,\n",
      "2/3/2017,802.98999,806,800.369995,801.48999,1460400,\n",
      "2/6/2017,799.700012,801.669983,795.25,801.340027,1174200,\n",
      "2/7/2017,803.98999,810.5,801.780029,806.969971,1235200,\n",
      "2/8/2017,807,811.840027,803.190002,808.380005,1155300,\n",
      "2/9/2017,809.51001,810.659973,804.539978,809.559998,989700,\n",
      "2/10/2017,811.700012,815.25,809.780029,813.669983,1129100,\n",
      "2/13/2017,816,820.958984,815.48999,819.23999,1198100,\n",
      "2/14/2017,819,823,816,820.450012,1053600,\n",
      "2/15/2017,819.359985,823,818.469971,818.97998,1304000,\n",
      "2/16/2017,819.929993,824.400024,818.97998,824.159973,1281700,\n",
      "2/17/2017,823.02002,828.070007,821.655029,828.070007,1597800,\n",
      "2/21/2017,828.659973,833.450012,828.349976,831.659973,1247700,\n",
      "2/22/2017,828.659973,833.25,828.640015,830.76001,982900,\n",
      "2/23/2017,830.119995,832.460022,822.880005,831.330017,1470100,\n",
      "2/24/2017,827.72998,829,824.200012,828.640015,1386600,\n",
      "2/27/2017,824.549988,830.5,824,829.280029,1099500,\n",
      "2/28/2017,825.609985,828.539978,820.200012,823.210022,2252300,\n",
      "3/1/2017,828.849976,836.255005,827.26001,835.23999,1491400,\n"
     ]
    }
   ],
   "source": [
    "!type data\\goog.csv"
   ]
  },
  {
   "cell_type": "code",
   "execution_count": 186,
   "id": "c4eb28f4-545d-49ea-aec0-845e49f6a4fb",
   "metadata": {
    "tags": []
   },
   "outputs": [
    {
     "data": {
      "text/html": [
       "<div>\n",
       "<style scoped>\n",
       "    .dataframe tbody tr th:only-of-type {\n",
       "        vertical-align: middle;\n",
       "    }\n",
       "\n",
       "    .dataframe tbody tr th {\n",
       "        vertical-align: top;\n",
       "    }\n",
       "\n",
       "    .dataframe thead th {\n",
       "        text-align: right;\n",
       "    }\n",
       "</style>\n",
       "<table border=\"1\" class=\"dataframe\">\n",
       "  <thead>\n",
       "    <tr style=\"text-align: right;\">\n",
       "      <th></th>\n",
       "      <th>Date</th>\n",
       "      <th>Open</th>\n",
       "      <th>High</th>\n",
       "      <th>Low</th>\n",
       "      <th>Close</th>\n",
       "      <th>Volume</th>\n",
       "      <th>Unnamed: 6</th>\n",
       "    </tr>\n",
       "  </thead>\n",
       "  <tbody>\n",
       "    <tr>\n",
       "      <th>0</th>\n",
       "      <td>12/19/2016</td>\n",
       "      <td>790.219971</td>\n",
       "      <td>797.659973</td>\n",
       "      <td>786.270020</td>\n",
       "      <td>794.200012</td>\n",
       "      <td>1225900</td>\n",
       "      <td>NaN</td>\n",
       "    </tr>\n",
       "    <tr>\n",
       "      <th>1</th>\n",
       "      <td>12/20/2016</td>\n",
       "      <td>796.760010</td>\n",
       "      <td>798.650024</td>\n",
       "      <td>793.270020</td>\n",
       "      <td>796.419983</td>\n",
       "      <td>925100</td>\n",
       "      <td>NaN</td>\n",
       "    </tr>\n",
       "    <tr>\n",
       "      <th>2</th>\n",
       "      <td>12/21/2016</td>\n",
       "      <td>795.840027</td>\n",
       "      <td>796.676025</td>\n",
       "      <td>787.099976</td>\n",
       "      <td>794.559998</td>\n",
       "      <td>1208700</td>\n",
       "      <td>NaN</td>\n",
       "    </tr>\n",
       "    <tr>\n",
       "      <th>3</th>\n",
       "      <td>12/22/2016</td>\n",
       "      <td>792.359985</td>\n",
       "      <td>793.320007</td>\n",
       "      <td>788.580017</td>\n",
       "      <td>791.260010</td>\n",
       "      <td>969100</td>\n",
       "      <td>NaN</td>\n",
       "    </tr>\n",
       "    <tr>\n",
       "      <th>4</th>\n",
       "      <td>12/23/2016</td>\n",
       "      <td>790.900024</td>\n",
       "      <td>792.739990</td>\n",
       "      <td>787.280029</td>\n",
       "      <td>789.909973</td>\n",
       "      <td>623400</td>\n",
       "      <td>NaN</td>\n",
       "    </tr>\n",
       "    <tr>\n",
       "      <th>...</th>\n",
       "      <td>...</td>\n",
       "      <td>...</td>\n",
       "      <td>...</td>\n",
       "      <td>...</td>\n",
       "      <td>...</td>\n",
       "      <td>...</td>\n",
       "      <td>...</td>\n",
       "    </tr>\n",
       "    <tr>\n",
       "      <th>44</th>\n",
       "      <td>2/23/2017</td>\n",
       "      <td>830.119995</td>\n",
       "      <td>832.460022</td>\n",
       "      <td>822.880005</td>\n",
       "      <td>831.330017</td>\n",
       "      <td>1470100</td>\n",
       "      <td>NaN</td>\n",
       "    </tr>\n",
       "    <tr>\n",
       "      <th>45</th>\n",
       "      <td>2/24/2017</td>\n",
       "      <td>827.729980</td>\n",
       "      <td>829.000000</td>\n",
       "      <td>824.200012</td>\n",
       "      <td>828.640015</td>\n",
       "      <td>1386600</td>\n",
       "      <td>NaN</td>\n",
       "    </tr>\n",
       "    <tr>\n",
       "      <th>46</th>\n",
       "      <td>2/27/2017</td>\n",
       "      <td>824.549988</td>\n",
       "      <td>830.500000</td>\n",
       "      <td>824.000000</td>\n",
       "      <td>829.280029</td>\n",
       "      <td>1099500</td>\n",
       "      <td>NaN</td>\n",
       "    </tr>\n",
       "    <tr>\n",
       "      <th>47</th>\n",
       "      <td>2/28/2017</td>\n",
       "      <td>825.609985</td>\n",
       "      <td>828.539978</td>\n",
       "      <td>820.200012</td>\n",
       "      <td>823.210022</td>\n",
       "      <td>2252300</td>\n",
       "      <td>NaN</td>\n",
       "    </tr>\n",
       "    <tr>\n",
       "      <th>48</th>\n",
       "      <td>3/1/2017</td>\n",
       "      <td>828.849976</td>\n",
       "      <td>836.255005</td>\n",
       "      <td>827.260010</td>\n",
       "      <td>835.239990</td>\n",
       "      <td>1491400</td>\n",
       "      <td>NaN</td>\n",
       "    </tr>\n",
       "  </tbody>\n",
       "</table>\n",
       "<p>49 rows × 7 columns</p>\n",
       "</div>"
      ],
      "text/plain": [
       "          Date        Open        High         Low  \\\n",
       "0   12/19/2016  790.219971  797.659973  786.270020   \n",
       "1   12/20/2016  796.760010  798.650024  793.270020   \n",
       "2   12/21/2016  795.840027  796.676025  787.099976   \n",
       "3   12/22/2016  792.359985  793.320007  788.580017   \n",
       "4   12/23/2016  790.900024  792.739990  787.280029   \n",
       "..         ...         ...         ...         ...   \n",
       "44   2/23/2017  830.119995  832.460022  822.880005   \n",
       "45   2/24/2017  827.729980  829.000000  824.200012   \n",
       "46   2/27/2017  824.549988  830.500000  824.000000   \n",
       "47   2/28/2017  825.609985  828.539978  820.200012   \n",
       "48    3/1/2017  828.849976  836.255005  827.260010   \n",
       "\n",
       "         Close   Volume  Unnamed: 6  \n",
       "0   794.200012  1225900         NaN  \n",
       "1   796.419983   925100         NaN  \n",
       "2   794.559998  1208700         NaN  \n",
       "3   791.260010   969100         NaN  \n",
       "4   789.909973   623400         NaN  \n",
       "..         ...      ...         ...  \n",
       "44  831.330017  1470100         NaN  \n",
       "45  828.640015  1386600         NaN  \n",
       "46  829.280029  1099500         NaN  \n",
       "47  823.210022  2252300         NaN  \n",
       "48  835.239990  1491400         NaN  \n",
       "\n",
       "[49 rows x 7 columns]"
      ]
     },
     "execution_count": 186,
     "metadata": {},
     "output_type": "execute_result"
    }
   ],
   "source": [
    "df = pd.read_csv('data/goog.csv')\n",
    "df"
   ]
  },
  {
   "cell_type": "code",
   "execution_count": 188,
   "id": "4f8e01b5-b131-4046-bbed-53dc91722a51",
   "metadata": {
    "tags": []
   },
   "outputs": [
    {
     "data": {
      "text/plain": [
       "0     786.270020\n",
       "1     793.270020\n",
       "2     787.099976\n",
       "3     788.580017\n",
       "4     787.280029\n",
       "         ...    \n",
       "44    822.880005\n",
       "45    824.200012\n",
       "46    824.000000\n",
       "47    820.200012\n",
       "48    827.260010\n",
       "Name: Low, Length: 49, dtype: float64"
      ]
     },
     "execution_count": 188,
     "metadata": {},
     "output_type": "execute_result"
    }
   ],
   "source": [
    "df.Low"
   ]
  },
  {
   "cell_type": "code",
   "execution_count": 192,
   "id": "788ba1ab-10f5-46ef-8f93-0267b9444768",
   "metadata": {
    "tags": []
   },
   "outputs": [
    {
     "data": {
      "text/plain": [
       "0     12/19/2016\n",
       "1     12/20/2016\n",
       "2     12/21/2016\n",
       "3     12/22/2016\n",
       "4     12/23/2016\n",
       "         ...    \n",
       "44     2/23/2017\n",
       "45     2/24/2017\n",
       "46     2/27/2017\n",
       "47     2/28/2017\n",
       "48      3/1/2017\n",
       "Name: Date, Length: 49, dtype: object"
      ]
     },
     "execution_count": 192,
     "metadata": {},
     "output_type": "execute_result"
    }
   ],
   "source": [
    "df.Date"
   ]
  },
  {
   "cell_type": "code",
   "execution_count": 199,
   "id": "1618c6c2-c027-4338-b131-54f6833c4ec7",
   "metadata": {
    "tags": []
   },
   "outputs": [
    {
     "data": {
      "text/plain": [
       "1     925100\n",
       "2    1208700\n",
       "3     969100\n",
       "4     623400\n",
       "5     789100\n",
       "Name: Volume, dtype: int64"
      ]
     },
     "execution_count": 199,
     "metadata": {},
     "output_type": "execute_result"
    }
   ],
   "source": [
    "df.Volume[1:6]"
   ]
  },
  {
   "cell_type": "code",
   "execution_count": 200,
   "id": "fc42bdfc-8656-47d1-97fa-259fa77c1c8a",
   "metadata": {
    "tags": []
   },
   "outputs": [
    {
     "data": {
      "text/html": [
       "<div>\n",
       "<style scoped>\n",
       "    .dataframe tbody tr th:only-of-type {\n",
       "        vertical-align: middle;\n",
       "    }\n",
       "\n",
       "    .dataframe tbody tr th {\n",
       "        vertical-align: top;\n",
       "    }\n",
       "\n",
       "    .dataframe thead th {\n",
       "        text-align: right;\n",
       "    }\n",
       "</style>\n",
       "<table border=\"1\" class=\"dataframe\">\n",
       "  <thead>\n",
       "    <tr style=\"text-align: right;\">\n",
       "      <th></th>\n",
       "      <th>Date</th>\n",
       "      <th>Open</th>\n",
       "      <th>High</th>\n",
       "      <th>Low</th>\n",
       "      <th>Close</th>\n",
       "      <th>Volume</th>\n",
       "      <th>Unnamed: 6</th>\n",
       "    </tr>\n",
       "  </thead>\n",
       "  <tbody>\n",
       "    <tr>\n",
       "      <th>0</th>\n",
       "      <td>2016-12-19</td>\n",
       "      <td>790.219971</td>\n",
       "      <td>797.659973</td>\n",
       "      <td>786.270020</td>\n",
       "      <td>794.200012</td>\n",
       "      <td>1225900</td>\n",
       "      <td>NaN</td>\n",
       "    </tr>\n",
       "    <tr>\n",
       "      <th>1</th>\n",
       "      <td>2016-12-20</td>\n",
       "      <td>796.760010</td>\n",
       "      <td>798.650024</td>\n",
       "      <td>793.270020</td>\n",
       "      <td>796.419983</td>\n",
       "      <td>925100</td>\n",
       "      <td>NaN</td>\n",
       "    </tr>\n",
       "    <tr>\n",
       "      <th>2</th>\n",
       "      <td>2016-12-21</td>\n",
       "      <td>795.840027</td>\n",
       "      <td>796.676025</td>\n",
       "      <td>787.099976</td>\n",
       "      <td>794.559998</td>\n",
       "      <td>1208700</td>\n",
       "      <td>NaN</td>\n",
       "    </tr>\n",
       "    <tr>\n",
       "      <th>3</th>\n",
       "      <td>2016-12-22</td>\n",
       "      <td>792.359985</td>\n",
       "      <td>793.320007</td>\n",
       "      <td>788.580017</td>\n",
       "      <td>791.260010</td>\n",
       "      <td>969100</td>\n",
       "      <td>NaN</td>\n",
       "    </tr>\n",
       "    <tr>\n",
       "      <th>4</th>\n",
       "      <td>2016-12-23</td>\n",
       "      <td>790.900024</td>\n",
       "      <td>792.739990</td>\n",
       "      <td>787.280029</td>\n",
       "      <td>789.909973</td>\n",
       "      <td>623400</td>\n",
       "      <td>NaN</td>\n",
       "    </tr>\n",
       "    <tr>\n",
       "      <th>...</th>\n",
       "      <td>...</td>\n",
       "      <td>...</td>\n",
       "      <td>...</td>\n",
       "      <td>...</td>\n",
       "      <td>...</td>\n",
       "      <td>...</td>\n",
       "      <td>...</td>\n",
       "    </tr>\n",
       "    <tr>\n",
       "      <th>44</th>\n",
       "      <td>2017-02-23</td>\n",
       "      <td>830.119995</td>\n",
       "      <td>832.460022</td>\n",
       "      <td>822.880005</td>\n",
       "      <td>831.330017</td>\n",
       "      <td>1470100</td>\n",
       "      <td>NaN</td>\n",
       "    </tr>\n",
       "    <tr>\n",
       "      <th>45</th>\n",
       "      <td>2017-02-24</td>\n",
       "      <td>827.729980</td>\n",
       "      <td>829.000000</td>\n",
       "      <td>824.200012</td>\n",
       "      <td>828.640015</td>\n",
       "      <td>1386600</td>\n",
       "      <td>NaN</td>\n",
       "    </tr>\n",
       "    <tr>\n",
       "      <th>46</th>\n",
       "      <td>2017-02-27</td>\n",
       "      <td>824.549988</td>\n",
       "      <td>830.500000</td>\n",
       "      <td>824.000000</td>\n",
       "      <td>829.280029</td>\n",
       "      <td>1099500</td>\n",
       "      <td>NaN</td>\n",
       "    </tr>\n",
       "    <tr>\n",
       "      <th>47</th>\n",
       "      <td>2017-02-28</td>\n",
       "      <td>825.609985</td>\n",
       "      <td>828.539978</td>\n",
       "      <td>820.200012</td>\n",
       "      <td>823.210022</td>\n",
       "      <td>2252300</td>\n",
       "      <td>NaN</td>\n",
       "    </tr>\n",
       "    <tr>\n",
       "      <th>48</th>\n",
       "      <td>2017-03-01</td>\n",
       "      <td>828.849976</td>\n",
       "      <td>836.255005</td>\n",
       "      <td>827.260010</td>\n",
       "      <td>835.239990</td>\n",
       "      <td>1491400</td>\n",
       "      <td>NaN</td>\n",
       "    </tr>\n",
       "  </tbody>\n",
       "</table>\n",
       "<p>49 rows × 7 columns</p>\n",
       "</div>"
      ],
      "text/plain": [
       "         Date        Open        High         Low  \\\n",
       "0  2016-12-19  790.219971  797.659973  786.270020   \n",
       "1  2016-12-20  796.760010  798.650024  793.270020   \n",
       "2  2016-12-21  795.840027  796.676025  787.099976   \n",
       "3  2016-12-22  792.359985  793.320007  788.580017   \n",
       "4  2016-12-23  790.900024  792.739990  787.280029   \n",
       "..        ...         ...         ...         ...   \n",
       "44 2017-02-23  830.119995  832.460022  822.880005   \n",
       "45 2017-02-24  827.729980  829.000000  824.200012   \n",
       "46 2017-02-27  824.549988  830.500000  824.000000   \n",
       "47 2017-02-28  825.609985  828.539978  820.200012   \n",
       "48 2017-03-01  828.849976  836.255005  827.260010   \n",
       "\n",
       "         Close   Volume  Unnamed: 6  \n",
       "0   794.200012  1225900         NaN  \n",
       "1   796.419983   925100         NaN  \n",
       "2   794.559998  1208700         NaN  \n",
       "3   791.260010   969100         NaN  \n",
       "4   789.909973   623400         NaN  \n",
       "..         ...      ...         ...  \n",
       "44  831.330017  1470100         NaN  \n",
       "45  828.640015  1386600         NaN  \n",
       "46  829.280029  1099500         NaN  \n",
       "47  823.210022  2252300         NaN  \n",
       "48  835.239990  1491400         NaN  \n",
       "\n",
       "[49 rows x 7 columns]"
      ]
     },
     "execution_count": 200,
     "metadata": {},
     "output_type": "execute_result"
    }
   ],
   "source": [
    "df = pd.read_csv('data/goog.csv',parse_dates=[\"Date\"])\n",
    "df"
   ]
  },
  {
   "cell_type": "code",
   "execution_count": 202,
   "id": "7206d368-d5d7-483d-863c-c4408c79baf3",
   "metadata": {
    "tags": []
   },
   "outputs": [
    {
     "data": {
      "text/html": [
       "<div>\n",
       "<style scoped>\n",
       "    .dataframe tbody tr th:only-of-type {\n",
       "        vertical-align: middle;\n",
       "    }\n",
       "\n",
       "    .dataframe tbody tr th {\n",
       "        vertical-align: top;\n",
       "    }\n",
       "\n",
       "    .dataframe thead th {\n",
       "        text-align: right;\n",
       "    }\n",
       "</style>\n",
       "<table border=\"1\" class=\"dataframe\">\n",
       "  <thead>\n",
       "    <tr style=\"text-align: right;\">\n",
       "      <th></th>\n",
       "      <th>Open</th>\n",
       "      <th>High</th>\n",
       "      <th>Low</th>\n",
       "      <th>Close</th>\n",
       "      <th>Volume</th>\n",
       "      <th>Unnamed: 6</th>\n",
       "    </tr>\n",
       "    <tr>\n",
       "      <th>Date</th>\n",
       "      <th></th>\n",
       "      <th></th>\n",
       "      <th></th>\n",
       "      <th></th>\n",
       "      <th></th>\n",
       "      <th></th>\n",
       "    </tr>\n",
       "  </thead>\n",
       "  <tbody>\n",
       "    <tr>\n",
       "      <th>2016-12-19</th>\n",
       "      <td>790.219971</td>\n",
       "      <td>797.659973</td>\n",
       "      <td>786.270020</td>\n",
       "      <td>794.200012</td>\n",
       "      <td>1225900</td>\n",
       "      <td>NaN</td>\n",
       "    </tr>\n",
       "    <tr>\n",
       "      <th>2016-12-20</th>\n",
       "      <td>796.760010</td>\n",
       "      <td>798.650024</td>\n",
       "      <td>793.270020</td>\n",
       "      <td>796.419983</td>\n",
       "      <td>925100</td>\n",
       "      <td>NaN</td>\n",
       "    </tr>\n",
       "    <tr>\n",
       "      <th>2016-12-21</th>\n",
       "      <td>795.840027</td>\n",
       "      <td>796.676025</td>\n",
       "      <td>787.099976</td>\n",
       "      <td>794.559998</td>\n",
       "      <td>1208700</td>\n",
       "      <td>NaN</td>\n",
       "    </tr>\n",
       "    <tr>\n",
       "      <th>2016-12-22</th>\n",
       "      <td>792.359985</td>\n",
       "      <td>793.320007</td>\n",
       "      <td>788.580017</td>\n",
       "      <td>791.260010</td>\n",
       "      <td>969100</td>\n",
       "      <td>NaN</td>\n",
       "    </tr>\n",
       "    <tr>\n",
       "      <th>2016-12-23</th>\n",
       "      <td>790.900024</td>\n",
       "      <td>792.739990</td>\n",
       "      <td>787.280029</td>\n",
       "      <td>789.909973</td>\n",
       "      <td>623400</td>\n",
       "      <td>NaN</td>\n",
       "    </tr>\n",
       "    <tr>\n",
       "      <th>...</th>\n",
       "      <td>...</td>\n",
       "      <td>...</td>\n",
       "      <td>...</td>\n",
       "      <td>...</td>\n",
       "      <td>...</td>\n",
       "      <td>...</td>\n",
       "    </tr>\n",
       "    <tr>\n",
       "      <th>2017-02-23</th>\n",
       "      <td>830.119995</td>\n",
       "      <td>832.460022</td>\n",
       "      <td>822.880005</td>\n",
       "      <td>831.330017</td>\n",
       "      <td>1470100</td>\n",
       "      <td>NaN</td>\n",
       "    </tr>\n",
       "    <tr>\n",
       "      <th>2017-02-24</th>\n",
       "      <td>827.729980</td>\n",
       "      <td>829.000000</td>\n",
       "      <td>824.200012</td>\n",
       "      <td>828.640015</td>\n",
       "      <td>1386600</td>\n",
       "      <td>NaN</td>\n",
       "    </tr>\n",
       "    <tr>\n",
       "      <th>2017-02-27</th>\n",
       "      <td>824.549988</td>\n",
       "      <td>830.500000</td>\n",
       "      <td>824.000000</td>\n",
       "      <td>829.280029</td>\n",
       "      <td>1099500</td>\n",
       "      <td>NaN</td>\n",
       "    </tr>\n",
       "    <tr>\n",
       "      <th>2017-02-28</th>\n",
       "      <td>825.609985</td>\n",
       "      <td>828.539978</td>\n",
       "      <td>820.200012</td>\n",
       "      <td>823.210022</td>\n",
       "      <td>2252300</td>\n",
       "      <td>NaN</td>\n",
       "    </tr>\n",
       "    <tr>\n",
       "      <th>2017-03-01</th>\n",
       "      <td>828.849976</td>\n",
       "      <td>836.255005</td>\n",
       "      <td>827.260010</td>\n",
       "      <td>835.239990</td>\n",
       "      <td>1491400</td>\n",
       "      <td>NaN</td>\n",
       "    </tr>\n",
       "  </tbody>\n",
       "</table>\n",
       "<p>49 rows × 6 columns</p>\n",
       "</div>"
      ],
      "text/plain": [
       "                  Open        High         Low  \\\n",
       "Date                                             \n",
       "2016-12-19  790.219971  797.659973  786.270020   \n",
       "2016-12-20  796.760010  798.650024  793.270020   \n",
       "2016-12-21  795.840027  796.676025  787.099976   \n",
       "2016-12-22  792.359985  793.320007  788.580017   \n",
       "2016-12-23  790.900024  792.739990  787.280029   \n",
       "...                ...         ...         ...   \n",
       "2017-02-23  830.119995  832.460022  822.880005   \n",
       "2017-02-24  827.729980  829.000000  824.200012   \n",
       "2017-02-27  824.549988  830.500000  824.000000   \n",
       "2017-02-28  825.609985  828.539978  820.200012   \n",
       "2017-03-01  828.849976  836.255005  827.260010   \n",
       "\n",
       "                 Close   Volume  Unnamed: 6  \n",
       "Date                                         \n",
       "2016-12-19  794.200012  1225900         NaN  \n",
       "2016-12-20  796.419983   925100         NaN  \n",
       "2016-12-21  794.559998  1208700         NaN  \n",
       "2016-12-22  791.260010   969100         NaN  \n",
       "2016-12-23  789.909973   623400         NaN  \n",
       "...                ...      ...         ...  \n",
       "2017-02-23  831.330017  1470100         NaN  \n",
       "2017-02-24  828.640015  1386600         NaN  \n",
       "2017-02-27  829.280029  1099500         NaN  \n",
       "2017-02-28  823.210022  2252300         NaN  \n",
       "2017-03-01  835.239990  1491400         NaN  \n",
       "\n",
       "[49 rows x 6 columns]"
      ]
     },
     "execution_count": 202,
     "metadata": {},
     "output_type": "execute_result"
    }
   ],
   "source": [
    "df = pd.read_csv('data/goog.csv',parse_dates=[\"Date\"],index_col='Date')\n",
    "df"
   ]
  },
  {
   "cell_type": "code",
   "execution_count": 201,
   "id": "49804f18-5297-451f-8372-14060abcdb43",
   "metadata": {
    "tags": []
   },
   "outputs": [
    {
     "data": {
      "text/plain": [
       "pandas._libs.tslibs.timestamps.Timestamp"
      ]
     },
     "execution_count": 201,
     "metadata": {},
     "output_type": "execute_result"
    }
   ],
   "source": [
    "type(df.Date[0])"
   ]
  },
  {
   "cell_type": "code",
   "execution_count": 203,
   "id": "64167ad6-aca5-4737-a124-08e67443d90a",
   "metadata": {
    "tags": []
   },
   "outputs": [
    {
     "data": {
      "text/plain": [
       "DatetimeIndex(['2016-12-19', '2016-12-20', '2016-12-21',\n",
       "               '2016-12-22', '2016-12-23', '2016-12-27',\n",
       "               '2016-12-28', '2016-12-29', '2016-12-30',\n",
       "               '2017-01-03', '2017-01-04', '2017-01-05',\n",
       "               '2017-01-06', '2017-01-09', '2017-01-10',\n",
       "               '2017-01-11', '2017-01-12', '2017-01-13',\n",
       "               '2017-01-17', '2017-01-18', '2017-01-19',\n",
       "               '2017-01-20', '2017-01-23', '2017-01-24',\n",
       "               '2017-01-25', '2017-01-26', '2017-01-27',\n",
       "               '2017-01-30', '2017-01-31', '2017-02-01',\n",
       "               '2017-02-02', '2017-02-03', '2017-02-06',\n",
       "               '2017-02-07', '2017-02-08', '2017-02-09',\n",
       "               '2017-02-10', '2017-02-13', '2017-02-14',\n",
       "               '2017-02-15', '2017-02-16', '2017-02-17',\n",
       "               '2017-02-21', '2017-02-22', '2017-02-23',\n",
       "               '2017-02-24', '2017-02-27', '2017-02-28',\n",
       "               '2017-03-01'],\n",
       "              dtype='datetime64[ns]', name='Date', freq=None)"
      ]
     },
     "execution_count": 203,
     "metadata": {},
     "output_type": "execute_result"
    }
   ],
   "source": [
    "df.index"
   ]
  },
  {
   "cell_type": "code",
   "execution_count": 207,
   "id": "c26c42e5-b346-4957-a894-d5dd3dd3f5ea",
   "metadata": {
    "tags": []
   },
   "outputs": [
    {
     "data": {
      "image/png": "[encoded data removed]",
      "text/plain": [
       "<Figure size 640x480 with 1 Axes>"
      ]
     },
     "metadata": {},
     "output_type": "display_data"
    }
   ],
   "source": [
    "df.Open.plot()\n",
    "plt.show()"
   ]
  }
 ],
 "metadata": {
  "kernelspec": {
   "display_name": "Python 3 (ipykernel)",
   "language": "python",
   "name": "python3"
  },
  "language_info": {
   "codemirror_mode": {
    "name": "ipython",
    "version": 3
   },
   "file_extension": ".py",
   "mimetype": "text/x-python",
   "name": "python",
   "nbconvert_exporter": "python",
   "pygments_lexer": "ipython3",
   "version": "3.11.5"
  }
 },
 "nbformat": 4,
 "nbformat_minor": 5
}
